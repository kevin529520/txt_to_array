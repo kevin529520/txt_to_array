{
 "cells": [
  {
   "cell_type": "code",
   "execution_count": 28,
   "id": "a775581f",
   "metadata": {},
   "outputs": [
    {
     "name": "stdout",
     "output_type": "stream",
     "text": [
      "t=16_x=0.1_r=0.001_zdrop=0.001+0.061_zk+0.06_pure_data.txt\n",
      "[[8.0000004e-03 8.9999998e-04 9.5918369e-01]\n",
      " [2.2666667e-02 8.9999998e-04 9.5918369e-01]\n",
      " [3.3666667e-02 8.9999998e-04 9.5918369e-01]\n",
      " ...\n",
      " [1.2633334e-01 4.0100001e-02 4.4897914e-01]\n",
      " [1.3733333e-01 4.0100001e-02 4.4897914e-01]\n",
      " [1.5200000e-01 4.0100001e-02 2.2448952e-01]]\n",
      "t=18_x=0.1_r=0.001_zdrop=0.001+0.061_zk+0.06_pure_data.txt\n",
      "[[8.0000004e-03 8.9999998e-04 9.5918369e-01]\n",
      " [2.2666667e-02 8.9999998e-04 9.5918369e-01]\n",
      " [3.3666667e-02 8.9999998e-04 9.5918369e-01]\n",
      " ...\n",
      " [1.2633334e-01 4.0100001e-02 4.4897914e-01]\n",
      " [1.3733333e-01 4.0100001e-02 4.4897914e-01]\n",
      " [1.5200000e-01 4.0100001e-02 2.2448952e-01]]\n",
      "t=20_x=0.1_r=0.001_zdrop=0.001+0.061_zk+0.06_pure_data.txt\n",
      "[[8.0000004e-03 8.9999998e-04 9.5918369e-01]\n",
      " [2.2666667e-02 8.9999998e-04 9.5918369e-01]\n",
      " [3.3666667e-02 8.9999998e-04 9.5918369e-01]\n",
      " ...\n",
      " [1.2633334e-01 4.0100001e-02 4.4897914e-01]\n",
      " [1.3733333e-01 4.0100001e-02 4.4897914e-01]\n",
      " [1.5200000e-01 4.0100001e-02 2.2448952e-01]]\n",
      "t=22_x=0.1_r=0.001_zdrop=0.001+0.061_zk+0.06_pure_data.txt\n",
      "[[8.0000004e-03 8.9999998e-04 9.5918369e-01]\n",
      " [2.2666667e-02 8.9999998e-04 9.5918369e-01]\n",
      " [3.3666667e-02 8.9999998e-04 9.5918369e-01]\n",
      " ...\n",
      " [1.2633334e-01 4.0100001e-02 4.4897914e-01]\n",
      " [1.3733333e-01 4.0100001e-02 4.4897914e-01]\n",
      " [1.5200000e-01 4.0100001e-02 2.2448952e-01]]\n",
      "t=24_x=0.1_r=0.001_zdrop=0.001+0.061_zk+0.06_pure_data.txt\n"
     ]
    },
    {
     "ename": "IndexError",
     "evalue": "pop from empty list",
     "output_type": "error",
     "traceback": [
      "\u001b[1;31m---------------------------------------------------------------------------\u001b[0m",
      "\u001b[1;31mIndexError\u001b[0m                                Traceback (most recent call last)",
      "Cell \u001b[1;32mIn[28], line 34\u001b[0m\n\u001b[0;32m     32\u001b[0m row_float \u001b[38;5;241m=\u001b[39m [\u001b[38;5;28mfloat\u001b[39m(val) \u001b[38;5;28;01mfor\u001b[39;00m val \u001b[38;5;129;01min\u001b[39;00m row]\n\u001b[0;32m     33\u001b[0m \u001b[38;5;66;03m# 删除第一列和第五列\u001b[39;00m\n\u001b[1;32m---> 34\u001b[0m \u001b[43mrow_float\u001b[49m\u001b[38;5;241;43m.\u001b[39;49m\u001b[43mpop\u001b[49m\u001b[43m(\u001b[49m\u001b[38;5;241;43m0\u001b[39;49m\u001b[43m)\u001b[49m\n\u001b[0;32m     35\u001b[0m row_float\u001b[38;5;241m.\u001b[39mpop(\u001b[38;5;241m-\u001b[39m\u001b[38;5;241m1\u001b[39m)\n\u001b[0;32m     36\u001b[0m \u001b[38;5;66;03m# 将小于0.5的行删除\u001b[39;00m\n",
      "\u001b[1;31mIndexError\u001b[0m: pop from empty list"
     ]
    }
   ],
   "source": [
    "import matplotlib.pyplot as plt\n",
    "import numpy as np\n",
    "import os\n",
    "from PIL import Image\n",
    "#import plotly.graph_objs as go\n",
    "# 创建初始帧\n",
    "#fig = go.Figure()\n",
    "\n",
    "# 遍历所有bmp图片，创建动画帧\n",
    "frames = []\n",
    "# 打开文本文件并读取所有行\n",
    "folder_path = './data/'\n",
    "for filename in sorted(os.listdir(folder_path)):\n",
    "    \n",
    "    if not filename.endswith('.txt'):\n",
    "        continue\n",
    "\n",
    "    with open(os.path.join(folder_path, filename), 'r') as file:\n",
    "        lines = file.readlines()\n",
    "#     print(lines)\n",
    "    # 创建一个空数组来存储转换后的数据\n",
    "    data = []\n",
    "    print(filename)\n",
    "    # 遍历每一行并将其分割成一系列的值\n",
    "    for line in lines:\n",
    "        values = line.split()\n",
    "        data.append(values)\n",
    "\n",
    "    data_float = []\n",
    "    for row in data:\n",
    "        # 将每一行中的字符串转换为浮点数\n",
    "        row_float = [float(val) for val in row]\n",
    "        # 删除第一列和第五列\n",
    "        row_float.pop(0)\n",
    "        row_float.pop(-1)\n",
    "        # 将小于0.5的行删除\n",
    "        if row_float[2] >= 0.1 and row_float[1] >= 0:\n",
    "            data_float.append(row_float)\n",
    "\n",
    "    # 将包含浮点数的列表转换为NumPy数组\n",
    "    data_array = np.array(data_float)\n",
    "    print(data_array)\n"
   ]
  },
  {
   "cell_type": "code",
   "execution_count": 22,
   "id": "1b828f2b",
   "metadata": {},
   "outputs": [
    {
     "data": {
      "text/plain": [
       "'x=0.1_r=0.001_zdrop=0.001+0.061_zk+0.06_pure_data.txt'"
      ]
     },
     "execution_count": 22,
     "metadata": {},
     "output_type": "execute_result"
    }
   ],
   "source": [
    "filename\n"
   ]
  },
  {
   "cell_type": "code",
   "execution_count": 23,
   "id": "d5f143b5",
   "metadata": {},
   "outputs": [
    {
     "data": {
      "text/plain": [
       "'./data/x=0.1_r=0.001_zdrop=0.001+0.061_zk+0.06_pure_data.txt'"
      ]
     },
     "execution_count": 23,
     "metadata": {},
     "output_type": "execute_result"
    }
   ],
   "source": [
    "os.path.join(folder_path, filename)"
   ]
  },
  {
   "cell_type": "code",
   "execution_count": 24,
   "id": "6438f10f",
   "metadata": {},
   "outputs": [
    {
     "data": {
      "text/plain": [
       "'x=0.1_r=0.001_zdrop=0.001+0.061_zk+0.06_pure_data.txt'"
      ]
     },
     "execution_count": 24,
     "metadata": {},
     "output_type": "execute_result"
    }
   ],
   "source": [
    "os.path.join(filename)"
   ]
  },
  {
   "cell_type": "code",
   "execution_count": 12,
   "id": "cc9fc8fe",
   "metadata": {},
   "outputs": [],
   "source": [
    "    data = []\n",
    "#     print(i)\n",
    "#     i=i+1\n",
    "    # 遍历每一行并将其分割成一系列的值\n",
    "    for line in lines:\n",
    "            # 跳过空行\n",
    "        if not line.strip():\n",
    "            continue\n",
    "        values = line.split()\n",
    "        data.append(values)\n",
    "\n",
    "    data_float = []\n",
    "    for row in data:\n",
    "        # 将每一行中的字符串转换为浮点数\n",
    "        if not values[0].isdigit():\n",
    "            continue\n",
    "        row_float = [float(val) for val in row]\n",
    "        if len(row_float) < 3:\n",
    "            continue\n",
    "        # 删除第一列和第五列\n",
    "        row_float.pop(0)\n",
    "        row_float.pop(-1)\n",
    "        # 将小于0.5的行删除\n",
    "        if row_float[2] >= 0.1 and row_float[1] >= 0:\n",
    "            data_float.append(row_float)\n",
    "\n",
    "    # 将包含浮点数的列表转换为NumPy数组\n",
    "    data_array = np.array(data_float)\n"
   ]
  },
  {
   "cell_type": "code",
   "execution_count": 13,
   "id": "6332be77",
   "metadata": {},
   "outputs": [
    {
     "data": {
      "text/plain": [
       "array([], dtype=float64)"
      ]
     },
     "execution_count": 13,
     "metadata": {},
     "output_type": "execute_result"
    }
   ],
   "source": [
    "    data_array"
   ]
  },
  {
   "cell_type": "code",
   "execution_count": 26,
   "id": "5303925e",
   "metadata": {},
   "outputs": [
    {
     "name": "stdout",
     "output_type": "stream",
     "text": [
      "[[8.0000004e-03 8.9999998e-04 9.5918369e-01]\n",
      " [2.2666667e-02 8.9999998e-04 9.5918369e-01]\n",
      " [3.3666667e-02 8.9999998e-04 9.5918369e-01]\n",
      " ...\n",
      " [1.2633334e-01 4.0100001e-02 4.4897914e-01]\n",
      " [1.3733333e-01 4.0100001e-02 4.4897914e-01]\n",
      " [1.5200000e-01 4.0100001e-02 2.2448952e-01]]\n"
     ]
    }
   ],
   "source": [
    "import matplotlib.pyplot as plt\n",
    "import numpy as np\n",
    "# 打开文本文件并读取所有行\n",
    "with open('t=32_x=0.1_r=0.001_zdrop=0.001+0.061_zk+0.06_pure_data.txt', 'r') as file:\n",
    "    lines = file.readlines()\n",
    "\n",
    "# 创建一个空数组来存储转换后的数据\n",
    "data = []\n",
    "\n",
    "# 遍历每一行并将其分割成一系列的值\n",
    "for line in lines:\n",
    "    values = line.split()\n",
    "    data.append(values)\n",
    "\n",
    "data_float = []\n",
    "for row in data:\n",
    "    # 将每一行中的字符串转换为浮点数\n",
    "    row_float = [float(val) for val in row]\n",
    "    # 删除第一列和第五列\n",
    "    row_float.pop(0)\n",
    "    row_float.pop(-1)\n",
    "    # 将小于0.5的行删除\n",
    "    if row_float[2] >= 0.1 and row_float[1] >= 0:\n",
    "        data_float.append(row_float)\n",
    "\n",
    "# 将包含浮点数的列表转换为NumPy数组\n",
    "data_array = np.array(data_float)\n",
    "print(data_array)\n"
   ]
  },
  {
   "cell_type": "code",
   "execution_count": null,
   "id": "8e8be832",
   "metadata": {},
   "outputs": [],
   "source": []
  }
 ],
 "metadata": {
  "kernelspec": {
   "display_name": "Python 3 (ipykernel)",
   "language": "python",
   "name": "python3"
  },
  "language_info": {
   "codemirror_mode": {
    "name": "ipython",
    "version": 3
   },
   "file_extension": ".py",
   "mimetype": "text/x-python",
   "name": "python",
   "nbconvert_exporter": "python",
   "pygments_lexer": "ipython3",
   "version": "3.10.8"
  }
 },
 "nbformat": 4,
 "nbformat_minor": 5
}
